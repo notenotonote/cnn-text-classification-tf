{
 "cells": [
  {
   "cell_type": "markdown",
   "metadata": {},
   "source": [
    "# ツイートを用いた感情分析\n",
    "\n",
    "## 2016/09/06(Tue)\n",
    "\n",
    "### 目的\n",
    "\n",
    "ツイートをポジティブな意見かネガティブな意見かに分け、ユーザの瞬間の感情を捉えられるようにする\n",
    "(リリースやキャンペーンでのユーザの感情)\n",
    "\n",
    "### 自然言語処理に用いた手法\n",
    "\n",
    "CNN for NLP (Convolutional Neural Network for National Language Processing)  \n",
    "畳み込みニューラルネットワークによる自然言語処理  \n",
    "TensorFlowでの実装例が下記にある:  \n",
    "https://github.com/dennybritz/cnn-text-classification-tf\n",
    "\n",
    "### 使用方法\n",
    "\n",
    "①. プログラムをLinuxサーバ上の適当な位置に配置する  \n",
    "②. tensorflowのパッケージインストールを行う(※公式サイト参照)  \n",
    "③. 下記のファイルに判定したいtweetのデータを記述する(※日本語OK)  \n",
    "\n",
    "ここでtweet_train_jpn.xxxには  \n",
    "現在まででpositiveかnegativeかが分かっている(巨大な)データを入れる。   \n",
    "tweet_test_jpn.xxxには判定したいデータを入れる。  \n",
    "プログラムの制約上、各々に必ず1行は入れるべし。  \n",
    "\n",
    "```\n",
    "./data/tweet_jpn/tweet_test_jpn.neg\n",
    "./data/tweet_jpn/tweet_test_jpn.pos\n",
    "./data/tweet_jpn/tweet_train_jpn.neg\n",
    "./data/tweet_jpn/tweet_train_jpn.pos\n",
    "\n",
    "```\n",
    "④. 下記コマンドを実行しNeuralNetworkを構築する\n",
    "\n",
    "```\n",
    "./train.py --num_epoch=201\n",
    "```\n",
    "\n",
    "⑤. 下記コマンドを実行しNeuralNetworkの評価を行う(※数字は4番で得られたものを用いる)\n",
    "\n",
    "```\n",
    "./eval.py --checkpoint_dir=\"./runs/1459637919/checkpoints/\"\n",
    "```\n",
    "\n",
    "⑥. tweet_tes_jpn.xxxのtweetに対してそれぞれラベルをつけて出力される\n"
   ]
  }
 ],
 "metadata": {
  "kernelspec": {
   "display_name": "Python 2",
   "language": "python",
   "name": "python2"
  },
  "language_info": {
   "codemirror_mode": {
    "name": "ipython",
    "version": 2.0
   },
   "file_extension": ".py",
   "mimetype": "text/x-python",
   "name": "python",
   "nbconvert_exporter": "python",
   "pygments_lexer": "ipython2",
   "version": "2.7.11"
  }
 },
 "nbformat": 4,
 "nbformat_minor": 0
}